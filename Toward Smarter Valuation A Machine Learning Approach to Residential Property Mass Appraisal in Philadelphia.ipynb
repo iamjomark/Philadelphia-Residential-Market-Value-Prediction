version https://git-lfs.github.com/spec/v1
oid sha256:3727457a38419e8615b56151e6dd53d8eb374fa2d91c928c1df5ad3ea7e6d651
size 4622037
